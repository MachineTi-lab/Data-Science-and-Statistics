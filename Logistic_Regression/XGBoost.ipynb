{
 "cells": [
  {
   "cell_type": "markdown",
   "id": "ec83256f-d06b-4c9a-95f8-366bcd300722",
   "metadata": {},
   "source": [
    "# XGBoost"
   ]
  },
  {
   "cell_type": "code",
   "execution_count": 14,
   "id": "fb2d6331-ab81-49e6-b3b3-cd614e15c333",
   "metadata": {},
   "outputs": [],
   "source": [
    "import numpy as np\n",
    "import pandas as pd \n",
    "import statsmodels.api as sm\n",
    "import statsmodels.formula.api as smf\n",
    "import seaborn as sns\n",
    "from sklearn.preprocessing import scale \n",
    "from sklearn.model_selection import train_test_split, GridSearchCV, cross_val_score\n",
    "from sklearn.metrics import confusion_matrix, accuracy_score, classification_report\n",
    "from sklearn.metrics import roc_auc_score,roc_curve\n",
    "import statsmodels.formula.api as smf\n",
    "import matplotlib.pyplot as plt\n",
    "from sklearn.neighbors import KNeighborsClassifier\n",
    "from sklearn.discriminant_analysis import LinearDiscriminantAnalysis\n",
    "from sklearn.linear_model import LogisticRegression\n",
    "from sklearn.svm import SVC\n",
    "from sklearn.naive_bayes import GaussianNB\n",
    "from sklearn import tree\n",
    "from sklearn.ensemble import RandomForestClassifier\n",
    "from sklearn.ensemble import GradientBoostingClassifier\n",
    "from xgboost import XGBClassifier\n",
    "from lightgbm import LGBMClassifier\n",
    "from catboost import CatBoostClassifier\n",
    "\n",
    "from warnings import filterwarnings\n",
    "filterwarnings('ignore');"
   ]
  },
  {
   "cell_type": "code",
   "execution_count": 15,
   "id": "44663338-20e3-418c-b425-3e2b22cf5c56",
   "metadata": {},
   "outputs": [],
   "source": [
    "diabetes = pd.read_csv(\"diabetes.csv\")\n",
    "df = diabetes.copy()\n",
    "df = df.dropna()\n",
    "y = df[\"Outcome\"]\n",
    "X = df.drop([\"Outcome\"],axis = 1)\n",
    "X = pd.DataFrame(X)\n",
    "X_train, X_test , y_train, y_test = train_test_split(X , y,\n",
    "                                                     test_size = 0.30,\n",
    "                                                     random_state = 42)"
   ]
  },
  {
   "cell_type": "code",
   "execution_count": 16,
   "id": "8fe9abe7-4a96-4fcb-bd03-32af830e0f21",
   "metadata": {},
   "outputs": [],
   "source": [
    "from xgboost import XGBClassifier"
   ]
  },
  {
   "cell_type": "code",
   "execution_count": 34,
   "id": "ffb9818e-6e81-403d-9b1b-656e46f08122",
   "metadata": {},
   "outputs": [],
   "source": [
    "xgboost_model  = XGBClassifier().fit(X_train,y_train)\n",
    "y_pred = xgboost_model.predict(X_test)"
   ]
  },
  {
   "cell_type": "code",
   "execution_count": 36,
   "id": "9251d97c-808a-4396-b381-2a0a0ad5daa5",
   "metadata": {},
   "outputs": [
    {
     "data": {
      "text/plain": [
       "0.7142857142857143"
      ]
     },
     "execution_count": 36,
     "metadata": {},
     "output_type": "execute_result"
    }
   ],
   "source": [
    "accuracy_score(y_test,y_pred)"
   ]
  },
  {
   "cell_type": "code",
   "execution_count": 40,
   "id": "5dd94561-b512-493f-b2e6-babaeceb66fd",
   "metadata": {},
   "outputs": [],
   "source": [
    "xgboost_params = { \"n_estimators\" : [100,500,1000,2000],\n",
    "                   \"subsample\" : [0.6,0.8,1.0],\n",
    "                  \"max_depth\" : [3,4,5,6],\n",
    "                  \"learning_rate\" : [0.1,0.01,0.02,0.5],\n",
    "                  \"min_samples_split\" : [2,5,10]}"
   ]
  },
  {
   "cell_type": "code",
   "execution_count": 45,
   "id": "f1f5b0a0-6ae9-464b-81ea-d5b6ec1a7b08",
   "metadata": {},
   "outputs": [],
   "source": [
    "xgboost = XGBClassifier()\n",
    "xgboost_cv_model = GridSearchCV(xgboost ,xgboost_params , cv= 10 , n_jobs = -1 , verbose= 2)"
   ]
  },
  {
   "cell_type": "code",
   "execution_count": null,
   "id": "f91fd9f6-dcb5-4ea7-9796-74248b1bb272",
   "metadata": {},
   "outputs": [
    {
     "name": "stdout",
     "output_type": "stream",
     "text": [
      "Fitting 10 folds for each of 576 candidates, totalling 5760 fits\n"
     ]
    }
   ],
   "source": [
    "xgboost_cv_model.fit(X_train,y_train)"
   ]
  },
  {
   "cell_type": "code",
   "execution_count": null,
   "id": "cb3dc037-8823-4ce6-bcc0-856f20fa33db",
   "metadata": {},
   "outputs": [],
   "source": []
  },
  {
   "cell_type": "code",
   "execution_count": null,
   "id": "0d445e3a-2832-477b-8bf8-8815472ece11",
   "metadata": {},
   "outputs": [],
   "source": []
  },
  {
   "cell_type": "code",
   "execution_count": null,
   "id": "56c9b0ba-d77e-4d5b-9d08-436b2d170782",
   "metadata": {},
   "outputs": [],
   "source": []
  },
  {
   "cell_type": "code",
   "execution_count": null,
   "id": "e3ecc4ec-1604-438f-b2b0-ddda347065b0",
   "metadata": {},
   "outputs": [],
   "source": []
  },
  {
   "cell_type": "code",
   "execution_count": null,
   "id": "ed5b52eb-fc1a-40a5-bd04-fdc3ca80abcd",
   "metadata": {},
   "outputs": [],
   "source": []
  },
  {
   "cell_type": "code",
   "execution_count": null,
   "id": "ce69df4b-87cf-4b90-8efe-952c4ebc967f",
   "metadata": {},
   "outputs": [],
   "source": []
  },
  {
   "cell_type": "code",
   "execution_count": null,
   "id": "2e0d4f68-79ea-4531-8cb6-c82720dbd988",
   "metadata": {},
   "outputs": [],
   "source": []
  }
 ],
 "metadata": {
  "kernelspec": {
   "display_name": "Python [conda env:base] *",
   "language": "python",
   "name": "conda-base-py"
  },
  "language_info": {
   "codemirror_mode": {
    "name": "ipython",
    "version": 3
   },
   "file_extension": ".py",
   "mimetype": "text/x-python",
   "name": "python",
   "nbconvert_exporter": "python",
   "pygments_lexer": "ipython3",
   "version": "3.12.7"
  }
 },
 "nbformat": 4,
 "nbformat_minor": 5
}
