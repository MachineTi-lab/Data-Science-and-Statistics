{
 "cells": [
  {
   "cell_type": "code",
   "execution_count": null,
   "id": "9ee3ccdd-191a-4b07-9339-f4035f5bfe39",
   "metadata": {},
   "outputs": [],
   "source": [
    " XGBoost"
   ]
  },
  {
   "cell_type": "code",
   "execution_count": null,
   "id": "fb2d6331-ab81-49e6-b3b3-cd614e15c333",
   "metadata": {},
   "outputs": [],
   "source": []
  },
  {
   "cell_type": "code",
   "execution_count": null,
   "id": "44663338-20e3-418c-b425-3e2b22cf5c56",
   "metadata": {},
   "outputs": [],
   "source": []
  },
  {
   "cell_type": "code",
   "execution_count": null,
   "id": "8fe9abe7-4a96-4fcb-bd03-32af830e0f21",
   "metadata": {},
   "outputs": [],
   "source": []
  },
  {
   "cell_type": "code",
   "execution_count": null,
   "id": "ffb9818e-6e81-403d-9b1b-656e46f08122",
   "metadata": {},
   "outputs": [],
   "source": []
  },
  {
   "cell_type": "code",
   "execution_count": null,
   "id": "9251d97c-808a-4396-b381-2a0a0ad5daa5",
   "metadata": {},
   "outputs": [],
   "source": []
  },
  {
   "cell_type": "code",
   "execution_count": null,
   "id": "5dd94561-b512-493f-b2e6-babaeceb66fd",
   "metadata": {},
   "outputs": [],
   "source": []
  },
  {
   "cell_type": "code",
   "execution_count": null,
   "id": "f1f5b0a0-6ae9-464b-81ea-d5b6ec1a7b08",
   "metadata": {},
   "outputs": [],
   "source": []
  },
  {
   "cell_type": "code",
   "execution_count": null,
   "id": "f91fd9f6-dcb5-4ea7-9796-74248b1bb272",
   "metadata": {},
   "outputs": [],
   "source": []
  },
  {
   "cell_type": "code",
   "execution_count": null,
   "id": "cb3dc037-8823-4ce6-bcc0-856f20fa33db",
   "metadata": {},
   "outputs": [],
   "source": []
  },
  {
   "cell_type": "code",
   "execution_count": null,
   "id": "2e0d4f68-79ea-4531-8cb6-c82720dbd988",
   "metadata": {},
   "outputs": [],
   "source": []
  }
 ],
 "metadata": {
  "kernelspec": {
   "display_name": "Python [conda env:base] *",
   "language": "python",
   "name": "conda-base-py"
  },
  "language_info": {
   "codemirror_mode": {
    "name": "ipython",
    "version": 3
   },
   "file_extension": ".py",
   "mimetype": "text/x-python",
   "name": "python",
   "nbconvert_exporter": "python",
   "pygments_lexer": "ipython3",
   "version": "3.12.7"
  }
 },
 "nbformat": 4,
 "nbformat_minor": 5
}
