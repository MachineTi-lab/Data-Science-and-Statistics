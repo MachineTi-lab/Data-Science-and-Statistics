{
 "cells": [
  {
   "cell_type": "code",
   "execution_count": 56,
   "id": "1f52388b-74de-47c8-af80-ef2ee6d0183a",
   "metadata": {},
   "outputs": [],
   "source": [
    "import pandas as pd\n",
    "import numpy as np"
   ]
  },
  {
   "cell_type": "raw",
   "id": "2e061956-c1cf-482f-8876-2638c8b35986",
   "metadata": {},
   "source": [
    "Initially, I tested it with random variables, but they didn’t pass the Shapiro test for normality.So I tried a normal function "
   ]
  },
  {
   "cell_type": "markdown",
   "id": "b5f71ed1-901a-43ba-9cf7-da59c54cfd01",
   "metadata": {},
   "source": [
    "A = np.random.randint(30,35,25) \n",
    "B = np.random.randint(30,35,25)\n",
    "C = np.random.randint(30,35,25)"
   ]
  },
  {
   "cell_type": "markdown",
   "id": "ecf12517-9175-409c-84e1-4a8b47f9a8f2",
   "metadata": {},
   "source": [
    "FIXED VERSION"
   ]
  },
  {
   "cell_type": "code",
   "execution_count": 71,
   "id": "c3eb743b-4967-452f-9734-7ec47befe491",
   "metadata": {},
   "outputs": [],
   "source": [
    "A = np.random.normal(loc=30, scale=2, size=25)   \n",
    "B = np.random.normal(loc=30, scale=2, size=25) \n",
    "C = np.random.normal(loc=30, scale=2, size=25) "
   ]
  },
  {
   "cell_type": "code",
   "execution_count": 73,
   "id": "7e6176ba-4b00-47b1-9a4b-29576218f92f",
   "metadata": {},
   "outputs": [],
   "source": [
    "A = pd.DataFrame(A)\n",
    "B = pd.DataFrame(B)\n",
    "C = pd.DataFrame(C)"
   ]
  },
  {
   "cell_type": "code",
   "execution_count": 75,
   "id": "80a4bdbf-2469-4d3f-a6e5-579928aff200",
   "metadata": {},
   "outputs": [],
   "source": [
    "dfs = [A,B,C]"
   ]
  },
  {
   "cell_type": "code",
   "execution_count": 77,
   "id": "88cf8919-2912-4378-99e2-6fa216e44622",
   "metadata": {},
   "outputs": [
    {
     "data": {
      "text/html": [
       "<div>\n",
       "<style scoped>\n",
       "    .dataframe tbody tr th:only-of-type {\n",
       "        vertical-align: middle;\n",
       "    }\n",
       "\n",
       "    .dataframe tbody tr th {\n",
       "        vertical-align: top;\n",
       "    }\n",
       "\n",
       "    .dataframe thead th {\n",
       "        text-align: right;\n",
       "    }\n",
       "</style>\n",
       "<table border=\"1\" class=\"dataframe\">\n",
       "  <thead>\n",
       "    <tr style=\"text-align: right;\">\n",
       "      <th></th>\n",
       "      <th>GRUP_A</th>\n",
       "      <th>GRUP_B</th>\n",
       "      <th>GRUP_C</th>\n",
       "    </tr>\n",
       "  </thead>\n",
       "  <tbody>\n",
       "    <tr>\n",
       "      <th>0</th>\n",
       "      <td>33.226880</td>\n",
       "      <td>29.573560</td>\n",
       "      <td>25.687845</td>\n",
       "    </tr>\n",
       "    <tr>\n",
       "      <th>1</th>\n",
       "      <td>31.624626</td>\n",
       "      <td>28.495572</td>\n",
       "      <td>30.753319</td>\n",
       "    </tr>\n",
       "    <tr>\n",
       "      <th>2</th>\n",
       "      <td>31.087143</td>\n",
       "      <td>26.134388</td>\n",
       "      <td>25.228837</td>\n",
       "    </tr>\n",
       "    <tr>\n",
       "      <th>3</th>\n",
       "      <td>30.100971</td>\n",
       "      <td>30.215440</td>\n",
       "      <td>31.621423</td>\n",
       "    </tr>\n",
       "    <tr>\n",
       "      <th>4</th>\n",
       "      <td>30.906738</td>\n",
       "      <td>27.965245</td>\n",
       "      <td>32.892213</td>\n",
       "    </tr>\n",
       "  </tbody>\n",
       "</table>\n",
       "</div>"
      ],
      "text/plain": [
       "      GRUP_A     GRUP_B     GRUP_C\n",
       "0  33.226880  29.573560  25.687845\n",
       "1  31.624626  28.495572  30.753319\n",
       "2  31.087143  26.134388  25.228837\n",
       "3  30.100971  30.215440  31.621423\n",
       "4  30.906738  27.965245  32.892213"
      ]
     },
     "execution_count": 77,
     "metadata": {},
     "output_type": "execute_result"
    }
   ],
   "source": [
    "ABC = pd.concat(dfs, axis = 1)\n",
    "ABC.columns = [\"GRUP_A\" , \"GRUP_B\", \"GRUP_C\"]\n",
    "ABC.head()"
   ]
  },
  {
   "cell_type": "markdown",
   "id": "47997181-4193-4aa7-8eee-3b32678640ff",
   "metadata": {},
   "source": [
    "Checking the assumptions "
   ]
  },
  {
   "cell_type": "code",
   "execution_count": 139,
   "id": "98c6d572-f2e7-47fc-8df0-a47a24f6272f",
   "metadata": {},
   "outputs": [],
   "source": [
    "from scipy import stats"
   ]
  },
  {
   "cell_type": "code",
   "execution_count": 141,
   "id": "c1a4bb24-7e15-4c1d-90c1-1d0f1d5f614b",
   "metadata": {},
   "outputs": [
    {
     "data": {
      "text/plain": [
       "ShapiroResult(statistic=0.9726063754920257, pvalue=0.711522791981742)"
      ]
     },
     "execution_count": 141,
     "metadata": {},
     "output_type": "execute_result"
    }
   ],
   "source": [
    "shapiro(ABC[\"GRUP_A\"])"
   ]
  },
  {
   "cell_type": "code",
   "execution_count": 143,
   "id": "c77d325c-7201-4c1d-8a28-300e0af4eee4",
   "metadata": {},
   "outputs": [
    {
     "data": {
      "text/plain": [
       "ShapiroResult(statistic=0.9645548896686779, pvalue=0.5124005702812984)"
      ]
     },
     "execution_count": 143,
     "metadata": {},
     "output_type": "execute_result"
    }
   ],
   "source": [
    "shapiro(ABC[\"GRUP_B\"])"
   ]
  },
  {
   "cell_type": "code",
   "execution_count": 145,
   "id": "71b904bb-bfe3-4340-aa40-98ea38f5ed47",
   "metadata": {},
   "outputs": [
    {
     "data": {
      "text/plain": [
       "ShapiroResult(statistic=0.9758553212165758, pvalue=0.7927261733137949)"
      ]
     },
     "execution_count": 145,
     "metadata": {},
     "output_type": "execute_result"
    }
   ],
   "source": [
    "shapiro(ABC[\"GRUP_C\"])"
   ]
  },
  {
   "cell_type": "markdown",
   "id": "89020439-e3cd-4ce8-a14e-21608f17c026",
   "metadata": {},
   "source": [
    "CHECKING VARIANS "
   ]
  },
  {
   "cell_type": "code",
   "execution_count": 148,
   "id": "bba61c98-fbeb-4d56-9d84-6291803a47ca",
   "metadata": {},
   "outputs": [
    {
     "data": {
      "text/plain": [
       "LeveneResult(statistic=0.3452029462827872, pvalue=0.7092420739728221)"
      ]
     },
     "execution_count": 148,
     "metadata": {},
     "output_type": "execute_result"
    }
   ],
   "source": [
    "stats.levene(ABC[\"GRUP_A\"],ABC[\"GRUP_B\"],ABC[\"GRUP_C\"]) "
   ]
  },
  {
   "cell_type": "raw",
   "id": "b23810e7-a0b5-4687-a77b-af8097b99432",
   "metadata": {},
   "source": [
    "HYPOTHESIS TEST"
   ]
  },
  {
   "cell_type": "code",
   "execution_count": 152,
   "id": "62e57c0e-c3d0-48d0-ae56-32245e09d4b5",
   "metadata": {},
   "outputs": [
    {
     "data": {
      "text/plain": [
       "F_onewayResult(statistic=0.3210319216557873, pvalue=0.7264330420859952)"
      ]
     },
     "execution_count": 152,
     "metadata": {},
     "output_type": "execute_result"
    }
   ],
   "source": [
    "stats.f_oneway(ABC[\"GRUP_A\"],ABC[\"GRUP_B\"],ABC[\"GRUP_C\"])"
   ]
  },
  {
   "cell_type": "code",
   "execution_count": null,
   "id": "e6552263-0594-4fe3-b0d3-9584d1c19ab8",
   "metadata": {},
   "outputs": [],
   "source": []
  }
 ],
 "metadata": {
  "kernelspec": {
   "display_name": "Python [conda env:base] *",
   "language": "python",
   "name": "conda-base-py"
  },
  "language_info": {
   "codemirror_mode": {
    "name": "ipython",
    "version": 3
   },
   "file_extension": ".py",
   "mimetype": "text/x-python",
   "name": "python",
   "nbconvert_exporter": "python",
   "pygments_lexer": "ipython3",
   "version": "3.12.7"
  }
 },
 "nbformat": 4,
 "nbformat_minor": 5
}
