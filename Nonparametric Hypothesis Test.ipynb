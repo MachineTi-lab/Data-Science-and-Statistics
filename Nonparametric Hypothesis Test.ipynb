{
 "cells": [
  {
   "cell_type": "markdown",
   "id": "9e34b2df-b14d-4ab2-9e28-c88c1815d314",
   "metadata": {},
   "source": [
    "If our data can't pass the assumption test, then we perform this test."
   ]
  },
  {
   "cell_type": "code",
   "execution_count": 23,
   "id": "171ae32c-f84f-44b0-ba16-896fa34d37de",
   "metadata": {},
   "outputs": [],
   "source": [
    "from scipy.stats import kruskal\n",
    "import numpy as np\n",
    "import pandas as pd"
   ]
  },
  {
   "cell_type": "code",
   "execution_count": 25,
   "id": "a41a4eb4-765a-497e-8a6b-dc2721bf3ad8",
   "metadata": {},
   "outputs": [],
   "source": [
    "A = np.random.normal(loc=30, scale=2, size=25)   \n",
    "B = np.random.normal(loc=30, scale=2, size=25) \n",
    "C = np.random.normal(loc=30, scale=2, size=25) "
   ]
  },
  {
   "cell_type": "code",
   "execution_count": 27,
   "id": "f7cc4be2-16bf-4a40-8a85-d313368711ec",
   "metadata": {},
   "outputs": [],
   "source": [
    "A = pd.DataFrame(A)\n",
    "B = pd.DataFrame(B)\n",
    "C = pd.DataFrame(C)"
   ]
  },
  {
   "cell_type": "code",
   "execution_count": 30,
   "id": "55082f41-a2f3-4870-89ed-bedb5ed471f1",
   "metadata": {},
   "outputs": [],
   "source": [
    "dfs = [A,B,C]"
   ]
  },
  {
   "cell_type": "code",
   "execution_count": 45,
   "id": "4a131758-e574-4da7-bd85-8dcdd95d9217",
   "metadata": {},
   "outputs": [],
   "source": [
    "ABC = pd.concat(dfs, axis = 1)\n",
    "ABC.columns = [\"GRUP_A\" , \"GRUP_B\", \"GRUP_C\"]"
   ]
  },
  {
   "cell_type": "code",
   "execution_count": 50,
   "id": "ae031255-13bd-42ca-8e5a-652000a86dcc",
   "metadata": {},
   "outputs": [
    {
     "data": {
      "text/plain": [
       "KruskalResult(statistic=0.3703578947367987, pvalue=0.8309555732337486)"
      ]
     },
     "execution_count": 50,
     "metadata": {},
     "output_type": "execute_result"
    }
   ],
   "source": [
    "kruskal(ABC[\"GRUP_A\"],ABC[\"GRUP_B\"],ABC[\"GRUP_C\"])"
   ]
  },
  {
   "cell_type": "markdown",
   "id": "e3062c68-62e3-45e1-80f0-1d9ced6b031d",
   "metadata": {},
   "source": [
    "pvalue=0.8309555732337486 t"
   ]
  }
 ],
 "metadata": {
  "kernelspec": {
   "display_name": "Python [conda env:base] *",
   "language": "python",
   "name": "conda-base-py"
  },
  "language_info": {
   "codemirror_mode": {
    "name": "ipython",
    "version": 3
   },
   "file_extension": ".py",
   "mimetype": "text/x-python",
   "name": "python",
   "nbconvert_exporter": "python",
   "pygments_lexer": "ipython3",
   "version": "3.12.7"
  }
 },
 "nbformat": 4,
 "nbformat_minor": 5
}
