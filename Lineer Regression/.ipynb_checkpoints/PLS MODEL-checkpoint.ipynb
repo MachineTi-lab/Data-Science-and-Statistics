{
 "cells": [
  {
   "cell_type": "code",
   "execution_count": 48,
   "id": "d3f687f8-18b9-47c5-b16b-73076f720537",
   "metadata": {},
   "outputs": [],
   "source": [
    "import numpy as np                # Sayısal işlemler için\n",
    "import pandas as pd               # Veri okuma ve düzenleme için\n",
    "from sklearn.model_selection import train_test_split   # Eğitim/test ayrımı için\n",
    "hit = pd.read_csv(\"Hitters.csv\")\n",
    "df = hit.copy()\n",
    "df = df.dropna()\n",
    "ms = pd.get_dummies(df[[\"League\",\"Division\",\"NewLeague\"]])\n",
    "y = df[\"Salary\"]\n",
    "X_ = df.drop([\"Salary\",\"League\",\"Division\",\"NewLeague\"],axis= 1).astype(\"float64\")\n",
    "X = pd.concat([X_, ms[[\"League_N\",\"Division_W\",\"NewLeague_N\"]]], axis=1)\n",
    "X_train,X_test,y_train,y_test = train_test_split(X,y,test_size = 0.25, random_state = 42)"
   ]
  },
  {
   "cell_type": "code",
   "execution_count": 89,
   "id": "6ff431d5-07ac-4315-a85a-97d0581d1a5c",
   "metadata": {},
   "outputs": [],
   "source": [
    "from sklearn.cross_decomposition import PLSRegression, PLSSVD\n",
    "from sklearn import model_selection "
   ]
  },
  {
   "cell_type": "code",
   "execution_count": 91,
   "id": "5a5a4a3f-7e77-4afe-bdc5-3879c6440736",
   "metadata": {},
   "outputs": [],
   "source": [
    "pls_model = PLSRegression(n_components = 2).fit(X_train,y_train)\n"
   ]
  },
  {
   "cell_type": "code",
   "execution_count": 93,
   "id": "e5b7020c-66c5-4792-ac8c-a106748fa993",
   "metadata": {},
   "outputs": [
    {
     "data": {
      "text/plain": [
       "array([[ 2.47335600e-01,  1.13030348e+00,  2.08295898e+00,\n",
       "         1.58599864e+00,  1.20781837e+00,  1.91015780e+00,\n",
       "         3.55673082e+00,  1.21724059e-02,  4.94616408e-02,\n",
       "         2.58964530e-01,  9.96443520e-02,  9.25548551e-02,\n",
       "         9.84366218e-02,  1.77753399e-01,  4.68377973e-02,\n",
       "        -1.43965788e-01,  3.51398888e+01, -7.43195797e+01,\n",
       "         2.93829559e+01]])"
      ]
     },
     "execution_count": 93,
     "metadata": {},
     "output_type": "execute_result"
    }
   ],
   "source": [
    "pls_model.coef_"
   ]
  },
  {
   "cell_type": "code",
   "execution_count": 95,
   "id": "20601f5c-8a9b-4278-a0be-db93ea7b90bb",
   "metadata": {},
   "outputs": [],
   "source": [
    "from sklearn.metrics import mean_squared_error , r2_score \n",
    "from sklearn.model_selection import train_test_split, KFold, cross_val_score\n",
    "import matplotlib.pyplot as plt"
   ]
  },
  {
   "cell_type": "code",
   "execution_count": 97,
   "id": "6841a8be-94b5-4f45-9480-b138d7efbe5b",
   "metadata": {},
   "outputs": [],
   "source": [
    "y_pred = pls_model.predict(X_train)   "
   ]
  },
  {
   "cell_type": "code",
   "execution_count": 99,
   "id": "d03c8c20-276e-4d1c-baaa-07e05ae3e4e6",
   "metadata": {},
   "outputs": [
    {
     "data": {
      "text/plain": [
       "310.1167593109696"
      ]
     },
     "execution_count": 99,
     "metadata": {},
     "output_type": "execute_result"
    }
   ],
   "source": [
    "np.sqrt(mean_squared_error(y_train,y_pred))     "
   ]
  },
  {
   "cell_type": "code",
   "execution_count": 101,
   "id": "26102f03-36a8-49e8-928f-8afea3010fe8",
   "metadata": {},
   "outputs": [
    {
     "data": {
      "text/plain": [
       "543.4834416243656"
      ]
     },
     "execution_count": 101,
     "metadata": {},
     "output_type": "execute_result"
    }
   ],
   "source": [
    "np.mean(pls_model.predict(X_train))"
   ]
  },
  {
   "cell_type": "code",
   "execution_count": 103,
   "id": "379c3c51-acd8-4fdf-a92a-4bea3c9d6c66",
   "metadata": {},
   "outputs": [
    {
     "data": {
      "text/plain": [
       "0.5140424486535481"
      ]
     },
     "execution_count": 103,
     "metadata": {},
     "output_type": "execute_result"
    }
   ],
   "source": [
    "r2_score(y_train,y_pred)"
   ]
  },
  {
   "cell_type": "code",
   "execution_count": 105,
   "id": "ec0cc427-636e-457d-8a7e-f4108f4be94f",
   "metadata": {},
   "outputs": [],
   "source": [
    "y_pred = pls_model.predict(X_test)"
   ]
  },
  {
   "cell_type": "code",
   "execution_count": 107,
   "id": "e2c2b89e-1794-4df3-9ec9-3e6202405dbe",
   "metadata": {},
   "outputs": [
    {
     "data": {
      "text/plain": [
       "398.09956327448526"
      ]
     },
     "execution_count": 107,
     "metadata": {},
     "output_type": "execute_result"
    }
   ],
   "source": [
    "np.sqrt(mean_squared_error(y_test,y_pred))"
   ]
  },
  {
   "cell_type": "markdown",
   "id": "37ca657b-a224-43f1-9f56-4250fb3fae80",
   "metadata": {},
   "source": [
    "### Model Tuning"
   ]
  },
  {
   "cell_type": "markdown",
   "id": "93452a77-6dc4-4137-8411-163424de363b",
   "metadata": {},
   "source": [
    "### CV"
   ]
  },
  {
   "cell_type": "code",
   "execution_count": 124,
   "id": "36941ab5-a514-4835-a565-912ddecbdbcb",
   "metadata": {},
   "outputs": [],
   "source": [
    "cv_10 = model_selection.KFold(n_splits = 10,shuffle =True, random_state = 1)"
   ]
  },
  {
   "cell_type": "code",
   "execution_count": 113,
   "id": "2d4af0c3-63cf-4e06-b1d7-ddfa52c16ee6",
   "metadata": {},
   "outputs": [
    {
     "data": {
      "image/png": "[encoded data removed]",
      "text/plain": [
       "<Figure size 640x480 with 1 Axes>"
      ]
     },
     "metadata": {},
     "output_type": "display_data"
    }
   ],
   "source": [
    "RMSE = []\n",
    "for i in np.arange(1,X_train.shape[1] + 1):\n",
    "    pls = PLSRegression(n_components = i)\n",
    "    score = np.sqrt(-1*cross_val_score(pls,X_train,y_train,cv = cv_10,scoring = \"neg_mean_squared_error\")).mean()\n",
    "    RMSE.append(score)\n",
    "    \n",
    "plt.plot(np.arange(1,X_train.shape[1] +1),np.array(RMSE), \"-v\", c= \"r\")\n",
    "plt.xlabel(\"bileşen sayısı\")\n",
    "plt.ylabel(\"RMSE\")\n",
    "plt.title(\"Salary\");"
   ]
  },
  {
   "cell_type": "code",
   "execution_count": 114,
   "id": "5325fa07-3574-47a3-8ada-dfe147a0e7c0",
   "metadata": {},
   "outputs": [],
   "source": [
    "pls_model = PLSRegression(n_components = 2).fit(X_train,y_train)"
   ]
  },
  {
   "cell_type": "code",
   "execution_count": 117,
   "id": "95295bb8-4c06-450d-99d8-4d73b37c4074",
   "metadata": {},
   "outputs": [],
   "source": [
    "y_pred = pls_model.predict(X_test)"
   ]
  },
  {
   "cell_type": "code",
   "execution_count": 119,
   "id": "473384d9-73b4-4848-b59e-bd958f19e508",
   "metadata": {},
   "outputs": [
    {
     "data": {
      "text/plain": [
       "398.09956327448526"
      ]
     },
     "execution_count": 119,
     "metadata": {},
     "output_type": "execute_result"
    }
   ],
   "source": [
    "np.sqrt(mean_squared_error(y_test,y_pred))"
   ]
  },
  {
   "cell_type": "code",
   "execution_count": null,
   "id": "5450bc56-eba3-42e7-9d73-7b2d6e8aa6a2",
   "metadata": {},
   "outputs": [],
   "source": []
  },
  {
   "cell_type": "code",
   "execution_count": null,
   "id": "67175700-6183-450a-acab-14672383c6be",
   "metadata": {},
   "outputs": [],
   "source": []
  },
  {
   "cell_type": "code",
   "execution_count": null,
   "id": "309207a9-e978-41c9-83e2-ec18a884af23",
   "metadata": {},
   "outputs": [],
   "source": []
  },
  {
   "cell_type": "code",
   "execution_count": null,
   "id": "18ec2e01-bfc7-4584-96e8-5cd9aa628b66",
   "metadata": {},
   "outputs": [],
   "source": []
  },
  {
   "cell_type": "code",
   "execution_count": null,
   "id": "3d55bff9-94ba-459b-a014-9e5557335a92",
   "metadata": {},
   "outputs": [],
   "source": []
  },
  {
   "cell_type": "code",
   "execution_count": null,
   "id": "86732643-2f56-4734-ae5b-24b9b35be399",
   "metadata": {},
   "outputs": [],
   "source": []
  },
  {
   "cell_type": "code",
   "execution_count": null,
   "id": "9f759927-d79d-475f-a66f-637db06c4d11",
   "metadata": {},
   "outputs": [],
   "source": []
  }
 ],
 "metadata": {
  "kernelspec": {
   "display_name": "Python [conda env:base] *",
   "language": "python",
   "name": "conda-base-py"
  },
  "language_info": {
   "codemirror_mode": {
    "name": "ipython",
    "version": 3
   },
   "file_extension": ".py",
   "mimetype": "text/x-python",
   "name": "python",
   "nbconvert_exporter": "python",
   "pygments_lexer": "ipython3",
   "version": "3.12.7"
  }
 },
 "nbformat": 4,
 "nbformat_minor": 5
}
