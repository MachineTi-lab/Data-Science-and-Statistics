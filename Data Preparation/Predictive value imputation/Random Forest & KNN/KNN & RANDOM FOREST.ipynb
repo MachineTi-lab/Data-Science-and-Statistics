{
 "cells": [
  {
   "cell_type": "markdown",
   "id": "4a191930-7cbc-455f-8991-b00d7870ba5f",
   "metadata": {},
   "source": [
    "### Predictive Imputation Methods"
   ]
  },
  {
   "cell_type": "code",
   "execution_count": 1,
   "id": "ddba74fb-dbea-4f3d-85a2-41b9686e68b9",
   "metadata": {},
   "outputs": [
    {
     "data": {
      "text/html": [
       "<div>\n",
       "<style scoped>\n",
       "    .dataframe tbody tr th:only-of-type {\n",
       "        vertical-align: middle;\n",
       "    }\n",
       "\n",
       "    .dataframe tbody tr th {\n",
       "        vertical-align: top;\n",
       "    }\n",
       "\n",
       "    .dataframe thead th {\n",
       "        text-align: right;\n",
       "    }\n",
       "</style>\n",
       "<table border=\"1\" class=\"dataframe\">\n",
       "  <thead>\n",
       "    <tr style=\"text-align: right;\">\n",
       "      <th></th>\n",
       "      <th>survived</th>\n",
       "      <th>pclass</th>\n",
       "      <th>age</th>\n",
       "      <th>sibsp</th>\n",
       "      <th>parch</th>\n",
       "      <th>fare</th>\n",
       "    </tr>\n",
       "  </thead>\n",
       "  <tbody>\n",
       "    <tr>\n",
       "      <th>0</th>\n",
       "      <td>0</td>\n",
       "      <td>3</td>\n",
       "      <td>22.0</td>\n",
       "      <td>1</td>\n",
       "      <td>0</td>\n",
       "      <td>7.2500</td>\n",
       "    </tr>\n",
       "    <tr>\n",
       "      <th>1</th>\n",
       "      <td>1</td>\n",
       "      <td>1</td>\n",
       "      <td>38.0</td>\n",
       "      <td>1</td>\n",
       "      <td>0</td>\n",
       "      <td>71.2833</td>\n",
       "    </tr>\n",
       "    <tr>\n",
       "      <th>2</th>\n",
       "      <td>1</td>\n",
       "      <td>3</td>\n",
       "      <td>26.0</td>\n",
       "      <td>0</td>\n",
       "      <td>0</td>\n",
       "      <td>7.9250</td>\n",
       "    </tr>\n",
       "    <tr>\n",
       "      <th>3</th>\n",
       "      <td>1</td>\n",
       "      <td>1</td>\n",
       "      <td>35.0</td>\n",
       "      <td>1</td>\n",
       "      <td>0</td>\n",
       "      <td>53.1000</td>\n",
       "    </tr>\n",
       "    <tr>\n",
       "      <th>4</th>\n",
       "      <td>0</td>\n",
       "      <td>3</td>\n",
       "      <td>35.0</td>\n",
       "      <td>0</td>\n",
       "      <td>0</td>\n",
       "      <td>8.0500</td>\n",
       "    </tr>\n",
       "  </tbody>\n",
       "</table>\n",
       "</div>"
      ],
      "text/plain": [
       "   survived  pclass   age  sibsp  parch     fare\n",
       "0         0       3  22.0      1      0   7.2500\n",
       "1         1       1  38.0      1      0  71.2833\n",
       "2         1       3  26.0      0      0   7.9250\n",
       "3         1       1  35.0      1      0  53.1000\n",
       "4         0       3  35.0      0      0   8.0500"
      ]
     },
     "execution_count": 1,
     "metadata": {},
     "output_type": "execute_result"
    }
   ],
   "source": [
    "import seaborn as sns\n",
    "import missingno as msno \n",
    "df = sns.load_dataset(\"titanic\")\n",
    "df = df.select_dtypes(include = [\"float64\" , \"int64\"])\n",
    "df.head()"
   ]
  },
  {
   "cell_type": "code",
   "execution_count": 2,
   "id": "fc0a1e56-1b0d-410e-9112-871b6174e301",
   "metadata": {},
   "outputs": [
    {
     "data": {
      "text/plain": [
       "survived      0\n",
       "pclass        0\n",
       "age         177\n",
       "sibsp         0\n",
       "parch         0\n",
       "fare          0\n",
       "dtype: int64"
      ]
     },
     "execution_count": 2,
     "metadata": {},
     "output_type": "execute_result"
    }
   ],
   "source": [
    "df.isnull().sum()"
   ]
  },
  {
   "cell_type": "code",
   "execution_count": 3,
   "id": "57b87aaf-22af-455f-88aa-baf9fdbebf87",
   "metadata": {},
   "outputs": [
    {
     "name": "stdout",
     "output_type": "stream",
     "text": [
      "Requirement already satisfied: ycimpute in c:\\users\\semeh\\anaconda3\\lib\\site-packages (0.2)\n",
      "Requirement already satisfied: six in c:\\users\\semeh\\anaconda3\\lib\\site-packages (from ycimpute) (1.16.0)\n",
      "Requirement already satisfied: numpy>=1.10 in c:\\users\\semeh\\anaconda3\\lib\\site-packages (from ycimpute) (1.26.4)\n",
      "Requirement already satisfied: scipy in c:\\users\\semeh\\anaconda3\\lib\\site-packages (from ycimpute) (1.13.1)\n",
      "Requirement already satisfied: scikit-learn>=0.17.1 in c:\\users\\semeh\\anaconda3\\lib\\site-packages (from ycimpute) (1.5.1)\n",
      "Requirement already satisfied: torch>=1.1.0 in c:\\users\\semeh\\anaconda3\\lib\\site-packages (from ycimpute) (2.8.0)\n",
      "Requirement already satisfied: joblib>=1.2.0 in c:\\users\\semeh\\anaconda3\\lib\\site-packages (from scikit-learn>=0.17.1->ycimpute) (1.4.2)\n",
      "Requirement already satisfied: threadpoolctl>=3.1.0 in c:\\users\\semeh\\anaconda3\\lib\\site-packages (from scikit-learn>=0.17.1->ycimpute) (3.5.0)\n",
      "Requirement already satisfied: filelock in c:\\users\\semeh\\anaconda3\\lib\\site-packages (from torch>=1.1.0->ycimpute) (3.13.1)\n",
      "Requirement already satisfied: typing-extensions>=4.10.0 in c:\\users\\semeh\\anaconda3\\lib\\site-packages (from torch>=1.1.0->ycimpute) (4.11.0)\n",
      "Requirement already satisfied: sympy>=1.13.3 in c:\\users\\semeh\\anaconda3\\lib\\site-packages (from torch>=1.1.0->ycimpute) (1.14.0)\n",
      "Requirement already satisfied: networkx in c:\\users\\semeh\\anaconda3\\lib\\site-packages (from torch>=1.1.0->ycimpute) (3.3)\n",
      "Requirement already satisfied: jinja2 in c:\\users\\semeh\\anaconda3\\lib\\site-packages (from torch>=1.1.0->ycimpute) (3.1.4)\n",
      "Requirement already satisfied: fsspec in c:\\users\\semeh\\anaconda3\\lib\\site-packages (from torch>=1.1.0->ycimpute) (2024.6.1)\n",
      "Requirement already satisfied: setuptools in c:\\users\\semeh\\anaconda3\\lib\\site-packages (from torch>=1.1.0->ycimpute) (75.1.0)\n",
      "Requirement already satisfied: mpmath<1.4,>=1.1.0 in c:\\users\\semeh\\anaconda3\\lib\\site-packages (from sympy>=1.13.3->torch>=1.1.0->ycimpute) (1.3.0)\n",
      "Requirement already satisfied: MarkupSafe>=2.0 in c:\\users\\semeh\\anaconda3\\lib\\site-packages (from jinja2->torch>=1.1.0->ycimpute) (2.1.3)\n"
     ]
    }
   ],
   "source": [
    "!pip install ycimpute"
   ]
  },
  {
   "cell_type": "code",
   "execution_count": 4,
   "id": "c950b511-3839-45ec-9996-5eafb575ae87",
   "metadata": {},
   "outputs": [],
   "source": [
    "from ycimpute.imputer import knnimput "
   ]
  },
  {
   "cell_type": "code",
   "execution_count": 5,
   "id": "5267bed2-8701-4aac-b865-fbaa3ff5f657",
   "metadata": {},
   "outputs": [],
   "source": [
    "var_names = list(df)"
   ]
  },
  {
   "cell_type": "code",
   "execution_count": 6,
   "id": "d1191ed6-aaa6-4f29-8a1c-6c060d10d344",
   "metadata": {},
   "outputs": [],
   "source": [
    "import numpy as np\n",
    "n_df = np.array(df)"
   ]
  },
  {
   "cell_type": "code",
   "execution_count": 7,
   "id": "432f999c-9240-4850-bd29-6ea534d771b6",
   "metadata": {},
   "outputs": [
    {
     "data": {
      "text/plain": [
       "array([[ 0.    ,  3.    , 22.    ,  1.    ,  0.    ,  7.25  ],\n",
       "       [ 1.    ,  1.    , 38.    ,  1.    ,  0.    , 71.2833],\n",
       "       [ 1.    ,  3.    , 26.    ,  0.    ,  0.    ,  7.925 ],\n",
       "       [ 1.    ,  1.    , 35.    ,  1.    ,  0.    , 53.1   ],\n",
       "       [ 0.    ,  3.    , 35.    ,  0.    ,  0.    ,  8.05  ],\n",
       "       [ 0.    ,  3.    ,     nan,  0.    ,  0.    ,  8.4583],\n",
       "       [ 0.    ,  1.    , 54.    ,  0.    ,  0.    , 51.8625],\n",
       "       [ 0.    ,  3.    ,  2.    ,  3.    ,  1.    , 21.075 ],\n",
       "       [ 1.    ,  3.    , 27.    ,  0.    ,  2.    , 11.1333],\n",
       "       [ 1.    ,  2.    , 14.    ,  1.    ,  0.    , 30.0708]])"
      ]
     },
     "execution_count": 7,
     "metadata": {},
     "output_type": "execute_result"
    }
   ],
   "source": [
    "n_df[0:10]"
   ]
  },
  {
   "cell_type": "code",
   "execution_count": 8,
   "id": "41c2ddb5-94dd-465c-83f3-938e24ee577e",
   "metadata": {},
   "outputs": [
    {
     "name": "stdout",
     "output_type": "stream",
     "text": [
      "Imputing row 1/891 with 0 missing, elapsed time: 0.074\n",
      "Imputing row 101/891 with 0 missing, elapsed time: 0.075\n",
      "Imputing row 201/891 with 0 missing, elapsed time: 0.075\n",
      "Imputing row 301/891 with 1 missing, elapsed time: 0.076\n",
      "Imputing row 401/891 with 0 missing, elapsed time: 0.076\n",
      "Imputing row 501/891 with 0 missing, elapsed time: 0.076\n",
      "Imputing row 601/891 with 0 missing, elapsed time: 0.077\n",
      "Imputing row 701/891 with 0 missing, elapsed time: 0.077\n",
      "Imputing row 801/891 with 0 missing, elapsed time: 0.078\n"
     ]
    }
   ],
   "source": [
    "dff = knnimput.KNN(k = 4).complete(n_df) ### does it by looking at his 4 nearest neighbors"
   ]
  },
  {
   "cell_type": "code",
   "execution_count": 9,
   "id": "28455a4e-277b-4948-a456-695b54c5da65",
   "metadata": {},
   "outputs": [
    {
     "data": {
      "text/plain": [
       "numpy.ndarray"
      ]
     },
     "execution_count": 9,
     "metadata": {},
     "output_type": "execute_result"
    }
   ],
   "source": [
    "type(dff)"
   ]
  },
  {
   "cell_type": "code",
   "execution_count": 10,
   "id": "9969b34e-fbf4-445b-a7c7-932309ca7022",
   "metadata": {},
   "outputs": [],
   "source": [
    "import pandas as pd\n",
    "dff = pd.DataFrame(dff,columns = var_names)"
   ]
  },
  {
   "cell_type": "code",
   "execution_count": 11,
   "id": "bdf58576-73d3-461b-9a45-7eb52e83cb99",
   "metadata": {},
   "outputs": [
    {
     "data": {
      "text/plain": [
       "survived    0\n",
       "pclass      0\n",
       "age         0\n",
       "sibsp       0\n",
       "parch       0\n",
       "fare        0\n",
       "dtype: int64"
      ]
     },
     "execution_count": 11,
     "metadata": {},
     "output_type": "execute_result"
    }
   ],
   "source": [
    "dff.isnull().sum()"
   ]
  },
  {
   "cell_type": "code",
   "execution_count": 12,
   "id": "eb72d9a7-d7cf-4309-9d10-9046dde6e92d",
   "metadata": {},
   "outputs": [],
   "source": [
    "### Random Forest "
   ]
  },
  {
   "cell_type": "code",
   "execution_count": 13,
   "id": "bff9c004-372b-438b-b77a-48fb5f080f4e",
   "metadata": {},
   "outputs": [],
   "source": [
    "import seaborn as sns\n",
    "import missingno as msno \n",
    "df = sns.load_dataset(\"titanic\")\n",
    "df = df.select_dtypes(include = [\"float64\" , \"int64\"])"
   ]
  },
  {
   "cell_type": "code",
   "execution_count": 14,
   "id": "aa5d4f29-6207-446a-9949-36e1e5c7e6e7",
   "metadata": {},
   "outputs": [
    {
     "data": {
      "text/plain": [
       "survived      0\n",
       "pclass        0\n",
       "age         177\n",
       "sibsp         0\n",
       "parch         0\n",
       "fare          0\n",
       "dtype: int64"
      ]
     },
     "execution_count": 14,
     "metadata": {},
     "output_type": "execute_result"
    }
   ],
   "source": [
    "df.isnull().sum()"
   ]
  },
  {
   "cell_type": "code",
   "execution_count": 15,
   "id": "9b37bbc0-ab64-428d-9912-aaffeeab470b",
   "metadata": {},
   "outputs": [],
   "source": [
    "var_names = list(df)"
   ]
  },
  {
   "cell_type": "code",
   "execution_count": 16,
   "id": "ac68c535-f7ff-4d07-8466-9f8bbdf9a2bf",
   "metadata": {},
   "outputs": [],
   "source": [
    "import numpy as np\n",
    "n_df = np.array(df)"
   ]
  },
  {
   "cell_type": "code",
   "execution_count": 17,
   "id": "bba6e63d-2b40-43be-abcd-fd7ad6bde7c6",
   "metadata": {},
   "outputs": [
    {
     "name": "stdout",
     "output_type": "stream",
     "text": [
      "Requirement already satisfied: ycimpute in c:\\users\\semeh\\anaconda3\\lib\\site-packages (0.2)\n",
      "Requirement already satisfied: six in c:\\users\\semeh\\anaconda3\\lib\\site-packages (from ycimpute) (1.16.0)\n",
      "Requirement already satisfied: numpy>=1.10 in c:\\users\\semeh\\anaconda3\\lib\\site-packages (from ycimpute) (1.26.4)\n",
      "Requirement already satisfied: scipy in c:\\users\\semeh\\anaconda3\\lib\\site-packages (from ycimpute) (1.13.1)\n",
      "Requirement already satisfied: scikit-learn>=0.17.1 in c:\\users\\semeh\\anaconda3\\lib\\site-packages (from ycimpute) (1.5.1)\n",
      "Requirement already satisfied: torch>=1.1.0 in c:\\users\\semeh\\anaconda3\\lib\\site-packages (from ycimpute) (2.8.0)\n",
      "Requirement already satisfied: joblib>=1.2.0 in c:\\users\\semeh\\anaconda3\\lib\\site-packages (from scikit-learn>=0.17.1->ycimpute) (1.4.2)\n",
      "Requirement already satisfied: threadpoolctl>=3.1.0 in c:\\users\\semeh\\anaconda3\\lib\\site-packages (from scikit-learn>=0.17.1->ycimpute) (3.5.0)\n",
      "Requirement already satisfied: filelock in c:\\users\\semeh\\anaconda3\\lib\\site-packages (from torch>=1.1.0->ycimpute) (3.13.1)\n",
      "Requirement already satisfied: typing-extensions>=4.10.0 in c:\\users\\semeh\\anaconda3\\lib\\site-packages (from torch>=1.1.0->ycimpute) (4.11.0)\n",
      "Requirement already satisfied: sympy>=1.13.3 in c:\\users\\semeh\\anaconda3\\lib\\site-packages (from torch>=1.1.0->ycimpute) (1.14.0)\n",
      "Requirement already satisfied: networkx in c:\\users\\semeh\\anaconda3\\lib\\site-packages (from torch>=1.1.0->ycimpute) (3.3)\n",
      "Requirement already satisfied: jinja2 in c:\\users\\semeh\\anaconda3\\lib\\site-packages (from torch>=1.1.0->ycimpute) (3.1.4)\n",
      "Requirement already satisfied: fsspec in c:\\users\\semeh\\anaconda3\\lib\\site-packages (from torch>=1.1.0->ycimpute) (2024.6.1)\n",
      "Requirement already satisfied: setuptools in c:\\users\\semeh\\anaconda3\\lib\\site-packages (from torch>=1.1.0->ycimpute) (75.1.0)\n",
      "Requirement already satisfied: mpmath<1.4,>=1.1.0 in c:\\users\\semeh\\anaconda3\\lib\\site-packages (from sympy>=1.13.3->torch>=1.1.0->ycimpute) (1.3.0)\n",
      "Requirement already satisfied: MarkupSafe>=2.0 in c:\\users\\semeh\\anaconda3\\lib\\site-packages (from jinja2->torch>=1.1.0->ycimpute) (2.1.3)\n",
      "Note: you may need to restart the kernel to use updated packages.\n"
     ]
    }
   ],
   "source": [
    "pip install --upgrade ycimpute ###"
   ]
  },
  {
   "cell_type": "code",
   "execution_count": 20,
   "id": "6b7107af-aaf9-4d51-a541-d6faffd3c627",
   "metadata": {},
   "outputs": [
    {
     "ename": "AttributeError",
     "evalue": "module 'ycimpute.imputer.iterforest' has no attribute 'IterImput'",
     "output_type": "error",
     "traceback": [
      "\u001b[1;31m---------------------------------------------------------------------------\u001b[0m",
      "\u001b[1;31mAttributeError\u001b[0m                            Traceback (most recent call last)",
      "Cell \u001b[1;32mIn[20], line 2\u001b[0m\n\u001b[0;32m      1\u001b[0m \u001b[38;5;28;01mfrom\u001b[39;00m \u001b[38;5;21;01mycimpute\u001b[39;00m\u001b[38;5;21;01m.\u001b[39;00m\u001b[38;5;21;01mimputer\u001b[39;00m \u001b[38;5;28;01mimport\u001b[39;00m iterforest\n\u001b[1;32m----> 2\u001b[0m dff \u001b[38;5;241m=\u001b[39m iterforest\u001b[38;5;241m.\u001b[39mIterImput()\u001b[38;5;241m.\u001b[39mcomplete(n_df)\n",
      "\u001b[1;31mAttributeError\u001b[0m: module 'ycimpute.imputer.iterforest' has no attribute 'IterImput'"
     ]
    }
   ],
   "source": [
    "from ycimpute.imputer import iterforest\n",
    "dff = iterforest.IterImput().complete(n_df)"
   ]
  },
  {
   "cell_type": "code",
   "execution_count": 22,
   "id": "c5176f48-1d6a-49cb-b6b1-99085481ac87",
   "metadata": {},
   "outputs": [],
   "source": [
    "dff = pd.DataFrame(dff , columns = var_names)"
   ]
  },
  {
   "cell_type": "code",
   "execution_count": 24,
   "id": "a329aa46-05bc-4748-9a33-45d41cfd1dab",
   "metadata": {},
   "outputs": [
    {
     "data": {
      "text/plain": [
       "survived      0\n",
       "pclass        0\n",
       "age         177\n",
       "sibsp         0\n",
       "parch         0\n",
       "fare          0\n",
       "dtype: int64"
      ]
     },
     "execution_count": 24,
     "metadata": {},
     "output_type": "execute_result"
    }
   ],
   "source": [
    "df.isnull().sum()\n"
   ]
  },
  {
   "cell_type": "code",
   "execution_count": null,
   "id": "80b3402e-b61f-4104-aeea-f9a1d8363712",
   "metadata": {},
   "outputs": [],
   "source": []
  }
 ],
 "metadata": {
  "kernelspec": {
   "display_name": "Python [conda env:base] *",
   "language": "python",
   "name": "conda-base-py"
  },
  "language_info": {
   "codemirror_mode": {
    "name": "ipython",
    "version": 3
   },
   "file_extension": ".py",
   "mimetype": "text/x-python",
   "name": "python",
   "nbconvert_exporter": "python",
   "pygments_lexer": "ipython3",
   "version": "3.12.7"
  }
 },
 "nbformat": 4,
 "nbformat_minor": 5
}
